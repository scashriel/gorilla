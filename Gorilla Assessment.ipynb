{
 "cells": [
  {
   "cell_type": "markdown",
   "metadata": {},
   "source": [
    "# Question 1"
   ]
  },
  {
   "cell_type": "code",
   "execution_count": 177,
   "metadata": {},
   "outputs": [],
   "source": [
    "import pandas as pd\n",
    "import numpy as np"
   ]
  },
  {
   "cell_type": "code",
   "execution_count": 178,
   "metadata": {},
   "outputs": [
    {
     "data": {
      "text/html": [
       "<div>\n",
       "<style scoped>\n",
       "    .dataframe tbody tr th:only-of-type {\n",
       "        vertical-align: middle;\n",
       "    }\n",
       "\n",
       "    .dataframe tbody tr th {\n",
       "        vertical-align: top;\n",
       "    }\n",
       "\n",
       "    .dataframe thead th {\n",
       "        text-align: right;\n",
       "    }\n",
       "</style>\n",
       "<table border=\"1\" class=\"dataframe\">\n",
       "  <thead>\n",
       "    <tr style=\"text-align: right;\">\n",
       "      <th></th>\n",
       "      <th>Date</th>\n",
       "      <th>Meter ID</th>\n",
       "      <th>kWh</th>\n",
       "    </tr>\n",
       "  </thead>\n",
       "  <tbody>\n",
       "    <tr>\n",
       "      <th>0</th>\n",
       "      <td>2020-10-01</td>\n",
       "      <td>1000000603</td>\n",
       "      <td>28.782474</td>\n",
       "    </tr>\n",
       "    <tr>\n",
       "      <th>1</th>\n",
       "      <td>2020-10-01</td>\n",
       "      <td>10588707</td>\n",
       "      <td>126.367711</td>\n",
       "    </tr>\n",
       "    <tr>\n",
       "      <th>2</th>\n",
       "      <td>2020-10-01</td>\n",
       "      <td>10626610</td>\n",
       "      <td>326.240595</td>\n",
       "    </tr>\n",
       "    <tr>\n",
       "      <th>3</th>\n",
       "      <td>2020-10-02</td>\n",
       "      <td>1000000603</td>\n",
       "      <td>26.690797</td>\n",
       "    </tr>\n",
       "    <tr>\n",
       "      <th>4</th>\n",
       "      <td>2020-10-02</td>\n",
       "      <td>10588707</td>\n",
       "      <td>118.322449</td>\n",
       "    </tr>\n",
       "  </tbody>\n",
       "</table>\n",
       "</div>"
      ],
      "text/plain": [
       "        Date    Meter ID         kWh\n",
       "0 2020-10-01  1000000603   28.782474\n",
       "1 2020-10-01    10588707  126.367711\n",
       "2 2020-10-01    10626610  326.240595\n",
       "3 2020-10-02  1000000603   26.690797\n",
       "4 2020-10-02    10588707  118.322449"
      ]
     },
     "execution_count": 178,
     "metadata": {},
     "output_type": "execute_result"
    }
   ],
   "source": [
    "#load Forecast Consumption sheet into df\n",
    "df_forcasted_consumption = pd.read_excel(r'/Users/shirahcashriel/Downloads/gorilla_test/data.xlsx', sheet_name='Forecasted Consumption')\n",
    "df_forcasted_consumption.head()"
   ]
  },
  {
   "cell_type": "code",
   "execution_count": 179,
   "metadata": {},
   "outputs": [
    {
     "data": {
      "text/html": [
       "<div>\n",
       "<style scoped>\n",
       "    .dataframe tbody tr th:only-of-type {\n",
       "        vertical-align: middle;\n",
       "    }\n",
       "\n",
       "    .dataframe tbody tr th {\n",
       "        vertical-align: top;\n",
       "    }\n",
       "\n",
       "    .dataframe thead th {\n",
       "        text-align: right;\n",
       "    }\n",
       "</style>\n",
       "<table border=\"1\" class=\"dataframe\">\n",
       "  <thead>\n",
       "    <tr style=\"text-align: right;\">\n",
       "      <th></th>\n",
       "      <th>Exit Zone</th>\n",
       "      <th>Annual Quantity (kWh)</th>\n",
       "    </tr>\n",
       "    <tr>\n",
       "      <th>Meter ID</th>\n",
       "      <th></th>\n",
       "      <th></th>\n",
       "    </tr>\n",
       "  </thead>\n",
       "  <tbody>\n",
       "    <tr>\n",
       "      <th>1000000603</th>\n",
       "      <td>SC1</td>\n",
       "      <td>12337</td>\n",
       "    </tr>\n",
       "    <tr>\n",
       "      <th>10588707</th>\n",
       "      <td>EM2</td>\n",
       "      <td>75123</td>\n",
       "    </tr>\n",
       "    <tr>\n",
       "      <th>10626610</th>\n",
       "      <td>NW1</td>\n",
       "      <td>151779</td>\n",
       "    </tr>\n",
       "  </tbody>\n",
       "</table>\n",
       "</div>"
      ],
      "text/plain": [
       "           Exit Zone  Annual Quantity (kWh)\n",
       "Meter ID                                   \n",
       "1000000603       SC1                  12337\n",
       "10588707         EM2                  75123\n",
       "10626610         NW1                 151779"
      ]
     },
     "execution_count": 179,
     "metadata": {},
     "output_type": "execute_result"
    }
   ],
   "source": [
    "#load Meter List sheet into df\n",
    "df_meters = pd.read_excel(r'/Users/shirahcashriel/Downloads/gorilla_test/data.xlsx', sheet_name='Meter List')\n",
    "df_meters.set_index('Meter ID', inplace=True)\n",
    "df_meters.head()"
   ]
  },
  {
   "cell_type": "code",
   "execution_count": 180,
   "metadata": {},
   "outputs": [
    {
     "data": {
      "text/html": [
       "<div>\n",
       "<style scoped>\n",
       "    .dataframe tbody tr th:only-of-type {\n",
       "        vertical-align: middle;\n",
       "    }\n",
       "\n",
       "    .dataframe tbody tr th {\n",
       "        vertical-align: top;\n",
       "    }\n",
       "\n",
       "    .dataframe thead th {\n",
       "        text-align: right;\n",
       "    }\n",
       "</style>\n",
       "<table border=\"1\" class=\"dataframe\">\n",
       "  <thead>\n",
       "    <tr style=\"text-align: right;\">\n",
       "      <th></th>\n",
       "      <th>Date</th>\n",
       "      <th>Exit Zone</th>\n",
       "      <th>Annual Quantity (Min)</th>\n",
       "      <th>Annual Quantity (Max)</th>\n",
       "      <th>Rate (p/kWh)</th>\n",
       "    </tr>\n",
       "  </thead>\n",
       "  <tbody>\n",
       "    <tr>\n",
       "      <th>0</th>\n",
       "      <td>2020-04-01</td>\n",
       "      <td>EA1</td>\n",
       "      <td>0</td>\n",
       "      <td>73200.0</td>\n",
       "      <td>0.0287</td>\n",
       "    </tr>\n",
       "    <tr>\n",
       "      <th>1</th>\n",
       "      <td>2020-04-01</td>\n",
       "      <td>EA2</td>\n",
       "      <td>0</td>\n",
       "      <td>73200.0</td>\n",
       "      <td>0.0287</td>\n",
       "    </tr>\n",
       "    <tr>\n",
       "      <th>2</th>\n",
       "      <td>2020-04-01</td>\n",
       "      <td>EA3</td>\n",
       "      <td>0</td>\n",
       "      <td>73200.0</td>\n",
       "      <td>0.0287</td>\n",
       "    </tr>\n",
       "    <tr>\n",
       "      <th>3</th>\n",
       "      <td>2020-04-01</td>\n",
       "      <td>EA4</td>\n",
       "      <td>0</td>\n",
       "      <td>73200.0</td>\n",
       "      <td>0.0287</td>\n",
       "    </tr>\n",
       "    <tr>\n",
       "      <th>4</th>\n",
       "      <td>2020-04-01</td>\n",
       "      <td>EM1</td>\n",
       "      <td>0</td>\n",
       "      <td>73200.0</td>\n",
       "      <td>0.0287</td>\n",
       "    </tr>\n",
       "  </tbody>\n",
       "</table>\n",
       "</div>"
      ],
      "text/plain": [
       "        Date Exit Zone  Annual Quantity (Min)  Annual Quantity (Max)  \\\n",
       "0 2020-04-01       EA1                      0                73200.0   \n",
       "1 2020-04-01       EA2                      0                73200.0   \n",
       "2 2020-04-01       EA3                      0                73200.0   \n",
       "3 2020-04-01       EA4                      0                73200.0   \n",
       "4 2020-04-01       EM1                      0                73200.0   \n",
       "\n",
       "   Rate (p/kWh)  \n",
       "0        0.0287  \n",
       "1        0.0287  \n",
       "2        0.0287  \n",
       "3        0.0287  \n",
       "4        0.0287  "
      ]
     },
     "execution_count": 180,
     "metadata": {},
     "output_type": "execute_result"
    }
   ],
   "source": [
    "#load Rates sheet into df\n",
    "df_rates = pd.read_excel(r'/Users/shirahcashriel/Downloads/gorilla_test/data.xlsx', sheet_name='Rates')\n",
    "df_rates.head()"
   ]
  },
  {
   "cell_type": "code",
   "execution_count": 181,
   "metadata": {},
   "outputs": [
    {
     "name": "stdout",
     "output_type": "stream",
     "text": [
      "<class 'pandas.core.frame.DataFrame'>\n",
      "RangeIndex: 1026 entries, 0 to 1025\n",
      "Data columns (total 5 columns):\n",
      " #   Column                 Non-Null Count  Dtype         \n",
      "---  ------                 --------------  -----         \n",
      " 0   Date                   1026 non-null   datetime64[ns]\n",
      " 1   Exit Zone              1026 non-null   object        \n",
      " 2   Annual Quantity (Min)  1026 non-null   int64         \n",
      " 3   Annual Quantity (Max)  1026 non-null   float64       \n",
      " 4   Rate (p/kWh)           1026 non-null   float64       \n",
      "dtypes: datetime64[ns](1), float64(2), int64(1), object(1)\n",
      "memory usage: 40.2+ KB\n"
     ]
    }
   ],
   "source": [
    "#replace NaN with infinity for max AQ\n",
    "df_rates['Annual Quantity (Max)'].fillna(np.inf, inplace=True)\n",
    "df_rates.info()"
   ]
  },
  {
   "cell_type": "code",
   "execution_count": 182,
   "metadata": {},
   "outputs": [
    {
     "data": {
      "text/plain": [
       "array(['2020-04-01T00:00:00.000000000', '2020-10-01T00:00:00.000000000',\n",
       "       '2021-04-01T00:00:00.000000000', '2021-10-01T00:00:00.000000000',\n",
       "       '2022-04-01T00:00:00.000000000', '2022-10-01T00:00:00.000000000',\n",
       "       '2023-04-01T00:00:00.000000000', '2023-10-01T00:00:00.000000000',\n",
       "       '2024-04-01T00:00:00.000000000'], dtype='datetime64[ns]')"
      ]
     },
     "execution_count": 182,
     "metadata": {},
     "output_type": "execute_result"
    }
   ],
   "source": [
    "date_ranges = df_rates['Date'].unique()\n",
    "date_ranges"
   ]
  },
  {
   "cell_type": "code",
   "execution_count": 183,
   "metadata": {},
   "outputs": [
    {
     "data": {
      "text/html": [
       "<div>\n",
       "<style scoped>\n",
       "    .dataframe tbody tr th:only-of-type {\n",
       "        vertical-align: middle;\n",
       "    }\n",
       "\n",
       "    .dataframe tbody tr th {\n",
       "        vertical-align: top;\n",
       "    }\n",
       "\n",
       "    .dataframe thead th {\n",
       "        text-align: right;\n",
       "    }\n",
       "</style>\n",
       "<table border=\"1\" class=\"dataframe\">\n",
       "  <thead>\n",
       "    <tr style=\"text-align: right;\">\n",
       "      <th></th>\n",
       "      <th>Date</th>\n",
       "      <th>Meter ID</th>\n",
       "      <th>kWh</th>\n",
       "      <th>Date for Rate</th>\n",
       "    </tr>\n",
       "  </thead>\n",
       "  <tbody>\n",
       "    <tr>\n",
       "      <th>0</th>\n",
       "      <td>2020-10-01</td>\n",
       "      <td>1000000603</td>\n",
       "      <td>28.782474</td>\n",
       "      <td>2020-10-01</td>\n",
       "    </tr>\n",
       "    <tr>\n",
       "      <th>1</th>\n",
       "      <td>2020-10-01</td>\n",
       "      <td>10588707</td>\n",
       "      <td>126.367711</td>\n",
       "      <td>2020-10-01</td>\n",
       "    </tr>\n",
       "    <tr>\n",
       "      <th>2</th>\n",
       "      <td>2020-10-01</td>\n",
       "      <td>10626610</td>\n",
       "      <td>326.240595</td>\n",
       "      <td>2020-10-01</td>\n",
       "    </tr>\n",
       "    <tr>\n",
       "      <th>3</th>\n",
       "      <td>2020-10-02</td>\n",
       "      <td>1000000603</td>\n",
       "      <td>26.690797</td>\n",
       "      <td>2020-10-01</td>\n",
       "    </tr>\n",
       "    <tr>\n",
       "      <th>4</th>\n",
       "      <td>2020-10-02</td>\n",
       "      <td>10588707</td>\n",
       "      <td>118.322449</td>\n",
       "      <td>2020-10-01</td>\n",
       "    </tr>\n",
       "  </tbody>\n",
       "</table>\n",
       "</div>"
      ],
      "text/plain": [
       "        Date    Meter ID         kWh Date for Rate\n",
       "0 2020-10-01  1000000603   28.782474    2020-10-01\n",
       "1 2020-10-01    10588707  126.367711    2020-10-01\n",
       "2 2020-10-01    10626610  326.240595    2020-10-01\n",
       "3 2020-10-02  1000000603   26.690797    2020-10-01\n",
       "4 2020-10-02    10588707  118.322449    2020-10-01"
      ]
     },
     "execution_count": 183,
     "metadata": {},
     "output_type": "execute_result"
    }
   ],
   "source": [
    "#bin date ranges to easily find appropriate daily rate \n",
    "df_forcasted_consumption['Date for Rate'] = pd.cut(df_forcasted_consumption['Date'], date_ranges, \\\n",
    "                                                  right=False, labels = [date for date in date_ranges[:-1]] )\n",
    "df_forcasted_consumption.head()"
   ]
  },
  {
   "cell_type": "code",
   "execution_count": 184,
   "metadata": {},
   "outputs": [
    {
     "name": "stdout",
     "output_type": "stream",
     "text": [
      "<class 'pandas.core.frame.DataFrame'>\n",
      "RangeIndex: 2190 entries, 0 to 2189\n",
      "Data columns (total 4 columns):\n",
      " #   Column         Non-Null Count  Dtype         \n",
      "---  ------         --------------  -----         \n",
      " 0   Date           2190 non-null   datetime64[ns]\n",
      " 1   Meter ID       2190 non-null   int64         \n",
      " 2   kWh            2190 non-null   float64       \n",
      " 3   Date for Rate  2190 non-null   datetime64[ns]\n",
      "dtypes: datetime64[ns](2), float64(1), int64(1)\n",
      "memory usage: 68.6 KB\n"
     ]
    }
   ],
   "source": [
    "#convert bin series from category to datetime\n",
    "df_forcasted_consumption['Date for Rate'] = pd.to_datetime(df_forcasted_consumption['Date for Rate']).astype('datetime64[ns]')\n",
    "df_forcasted_consumption.info()"
   ]
  },
  {
   "cell_type": "code",
   "execution_count": 185,
   "metadata": {
    "scrolled": true
   },
   "outputs": [
    {
     "data": {
      "text/html": [
       "<div>\n",
       "<style scoped>\n",
       "    .dataframe tbody tr th:only-of-type {\n",
       "        vertical-align: middle;\n",
       "    }\n",
       "\n",
       "    .dataframe tbody tr th {\n",
       "        vertical-align: top;\n",
       "    }\n",
       "\n",
       "    .dataframe thead th {\n",
       "        text-align: right;\n",
       "    }\n",
       "</style>\n",
       "<table border=\"1\" class=\"dataframe\">\n",
       "  <thead>\n",
       "    <tr style=\"text-align: right;\">\n",
       "      <th></th>\n",
       "      <th>Date</th>\n",
       "      <th>Meter ID</th>\n",
       "      <th>kWh</th>\n",
       "      <th>Date for Rate</th>\n",
       "      <th>Rate for Day</th>\n",
       "    </tr>\n",
       "  </thead>\n",
       "  <tbody>\n",
       "    <tr>\n",
       "      <th>0</th>\n",
       "      <td>2020-10-01</td>\n",
       "      <td>1000000603</td>\n",
       "      <td>28.782474</td>\n",
       "      <td>2020-10-01</td>\n",
       "      <td>0.0333</td>\n",
       "    </tr>\n",
       "    <tr>\n",
       "      <th>1</th>\n",
       "      <td>2020-10-01</td>\n",
       "      <td>10588707</td>\n",
       "      <td>126.367711</td>\n",
       "      <td>2020-10-01</td>\n",
       "      <td>0.0228</td>\n",
       "    </tr>\n",
       "    <tr>\n",
       "      <th>2</th>\n",
       "      <td>2020-10-01</td>\n",
       "      <td>10626610</td>\n",
       "      <td>326.240595</td>\n",
       "      <td>2020-10-01</td>\n",
       "      <td>0.0285</td>\n",
       "    </tr>\n",
       "    <tr>\n",
       "      <th>3</th>\n",
       "      <td>2020-10-02</td>\n",
       "      <td>1000000603</td>\n",
       "      <td>26.690797</td>\n",
       "      <td>2020-10-01</td>\n",
       "      <td>0.0333</td>\n",
       "    </tr>\n",
       "    <tr>\n",
       "      <th>4</th>\n",
       "      <td>2020-10-02</td>\n",
       "      <td>10588707</td>\n",
       "      <td>118.322449</td>\n",
       "      <td>2020-10-01</td>\n",
       "      <td>0.0228</td>\n",
       "    </tr>\n",
       "  </tbody>\n",
       "</table>\n",
       "</div>"
      ],
      "text/plain": [
       "        Date    Meter ID         kWh Date for Rate  Rate for Day\n",
       "0 2020-10-01  1000000603   28.782474    2020-10-01        0.0333\n",
       "1 2020-10-01    10588707  126.367711    2020-10-01        0.0228\n",
       "2 2020-10-01    10626610  326.240595    2020-10-01        0.0285\n",
       "3 2020-10-02  1000000603   26.690797    2020-10-01        0.0333\n",
       "4 2020-10-02    10588707  118.322449    2020-10-01        0.0228"
      ]
     },
     "execution_count": 185,
     "metadata": {},
     "output_type": "execute_result"
    }
   ],
   "source": [
    "#retrieve appropriate rate based on conditions of date, zone, and AQ range\n",
    "def calc_rate(exit_zone, aq, date):\n",
    "    rate = df_rates.loc[(df_rates['Date'] == date) &\\\n",
    "                    (df_rates['Exit Zone'] == exit_zone)&\\\n",
    "                    (df_rates['Annual Quantity (Min)'] <= aq) &\\\n",
    "                    (df_rates['Annual Quantity (Max)'] >= aq),['Rate (p/kWh)']]\n",
    "    rate.reset_index(inplace=True)\n",
    "\n",
    "    return rate.loc[0]['Rate (p/kWh)']\n",
    "    \n",
    "    \n",
    "\n",
    "rate_for_day = []\n",
    "\n",
    "for row in df_forcasted_consumption.T.loc[:]:\n",
    "    meter = df_forcasted_consumption.loc[row]['Meter ID']\n",
    "    exit_zone = df_meters.loc[meter]['Exit Zone']\n",
    "    aq = df_meters.loc[meter]['Annual Quantity (kWh)']\n",
    "    date = df_forcasted_consumption.loc[row]['Date for Rate']\n",
    "    rate = calc_rate(exit_zone, aq, date)\n",
    "    rate_for_day.append(rate)\n",
    "\n",
    "df_forcasted_consumption['Rate for Day'] = rate_for_day\n",
    "\n",
    "df_forcasted_consumption.head()\n"
   ]
  },
  {
   "cell_type": "code",
   "execution_count": 186,
   "metadata": {},
   "outputs": [
    {
     "data": {
      "text/html": [
       "<div>\n",
       "<style scoped>\n",
       "    .dataframe tbody tr th:only-of-type {\n",
       "        vertical-align: middle;\n",
       "    }\n",
       "\n",
       "    .dataframe tbody tr th {\n",
       "        vertical-align: top;\n",
       "    }\n",
       "\n",
       "    .dataframe thead th {\n",
       "        text-align: right;\n",
       "    }\n",
       "</style>\n",
       "<table border=\"1\" class=\"dataframe\">\n",
       "  <thead>\n",
       "    <tr style=\"text-align: right;\">\n",
       "      <th></th>\n",
       "      <th>Date</th>\n",
       "      <th>Meter ID</th>\n",
       "      <th>kWh</th>\n",
       "      <th>Date for Rate</th>\n",
       "      <th>Rate for Day</th>\n",
       "      <th>Cost for Day (£)</th>\n",
       "    </tr>\n",
       "  </thead>\n",
       "  <tbody>\n",
       "    <tr>\n",
       "      <th>0</th>\n",
       "      <td>2020-10-01</td>\n",
       "      <td>1000000603</td>\n",
       "      <td>28.782474</td>\n",
       "      <td>2020-10-01</td>\n",
       "      <td>0.0333</td>\n",
       "      <td>0.009585</td>\n",
       "    </tr>\n",
       "    <tr>\n",
       "      <th>1</th>\n",
       "      <td>2020-10-01</td>\n",
       "      <td>10588707</td>\n",
       "      <td>126.367711</td>\n",
       "      <td>2020-10-01</td>\n",
       "      <td>0.0228</td>\n",
       "      <td>0.028812</td>\n",
       "    </tr>\n",
       "    <tr>\n",
       "      <th>2</th>\n",
       "      <td>2020-10-01</td>\n",
       "      <td>10626610</td>\n",
       "      <td>326.240595</td>\n",
       "      <td>2020-10-01</td>\n",
       "      <td>0.0285</td>\n",
       "      <td>0.092979</td>\n",
       "    </tr>\n",
       "    <tr>\n",
       "      <th>3</th>\n",
       "      <td>2020-10-02</td>\n",
       "      <td>1000000603</td>\n",
       "      <td>26.690797</td>\n",
       "      <td>2020-10-01</td>\n",
       "      <td>0.0333</td>\n",
       "      <td>0.008888</td>\n",
       "    </tr>\n",
       "    <tr>\n",
       "      <th>4</th>\n",
       "      <td>2020-10-02</td>\n",
       "      <td>10588707</td>\n",
       "      <td>118.322449</td>\n",
       "      <td>2020-10-01</td>\n",
       "      <td>0.0228</td>\n",
       "      <td>0.026978</td>\n",
       "    </tr>\n",
       "  </tbody>\n",
       "</table>\n",
       "</div>"
      ],
      "text/plain": [
       "        Date    Meter ID         kWh Date for Rate  Rate for Day  \\\n",
       "0 2020-10-01  1000000603   28.782474    2020-10-01        0.0333   \n",
       "1 2020-10-01    10588707  126.367711    2020-10-01        0.0228   \n",
       "2 2020-10-01    10626610  326.240595    2020-10-01        0.0285   \n",
       "3 2020-10-02  1000000603   26.690797    2020-10-01        0.0333   \n",
       "4 2020-10-02    10588707  118.322449    2020-10-01        0.0228   \n",
       "\n",
       "   Cost for Day (£)  \n",
       "0          0.009585  \n",
       "1          0.028812  \n",
       "2          0.092979  \n",
       "3          0.008888  \n",
       "4          0.026978  "
      ]
     },
     "execution_count": 186,
     "metadata": {},
     "output_type": "execute_result"
    }
   ],
   "source": [
    "#calculate daily cost based on projected usage and daily rate, converted to £\n",
    "df_forcasted_consumption['Cost for Day (£)'] = df_forcasted_consumption['kWh'] * df_forcasted_consumption['Rate for Day'] * 0.01 \n",
    "df_forcasted_consumption.head()"
   ]
  },
  {
   "cell_type": "code",
   "execution_count": 204,
   "metadata": {},
   "outputs": [
    {
     "data": {
      "text/html": [
       "<div>\n",
       "<style scoped>\n",
       "    .dataframe tbody tr th:only-of-type {\n",
       "        vertical-align: middle;\n",
       "    }\n",
       "\n",
       "    .dataframe tbody tr th {\n",
       "        vertical-align: top;\n",
       "    }\n",
       "\n",
       "    .dataframe thead th {\n",
       "        text-align: right;\n",
       "    }\n",
       "</style>\n",
       "<table border=\"1\" class=\"dataframe\">\n",
       "  <thead>\n",
       "    <tr style=\"text-align: right;\">\n",
       "      <th></th>\n",
       "      <th>Total Estimated Consumption (kWh)</th>\n",
       "      <th>Total Cost (£)</th>\n",
       "    </tr>\n",
       "    <tr>\n",
       "      <th>Meter ID</th>\n",
       "      <th></th>\n",
       "      <th></th>\n",
       "    </tr>\n",
       "  </thead>\n",
       "  <tbody>\n",
       "    <tr>\n",
       "      <th>10588707</th>\n",
       "      <td>122450.0</td>\n",
       "      <td>28.50</td>\n",
       "    </tr>\n",
       "    <tr>\n",
       "      <th>10626610</th>\n",
       "      <td>303558.0</td>\n",
       "      <td>88.24</td>\n",
       "    </tr>\n",
       "    <tr>\n",
       "      <th>1000000603</th>\n",
       "      <td>24674.0</td>\n",
       "      <td>8.27</td>\n",
       "    </tr>\n",
       "  </tbody>\n",
       "</table>\n",
       "</div>"
      ],
      "text/plain": [
       "            Total Estimated Consumption (kWh)  Total Cost (£)\n",
       "Meter ID                                                     \n",
       "10588707                             122450.0           28.50\n",
       "10626610                             303558.0           88.24\n",
       "1000000603                            24674.0            8.27"
      ]
     },
     "execution_count": 204,
     "metadata": {},
     "output_type": "execute_result"
    }
   ],
   "source": [
    "#sum total projected consumptions and cost by meter\n",
    "df_distribution_charges = df_forcasted_consumption.groupby('Meter ID').sum().round(2).drop(columns=['Rate for Day'])\n",
    "df_distribution_charges.rename(columns={'kWh':'Total Estimated Consumption (kWh)', 'Cost for Day (£)':'Total Cost (£)'}, inplace=True)\n",
    "df_distribution_charges\n"
   ]
  },
  {
   "cell_type": "markdown",
   "metadata": {},
   "source": [
    "# Question 2"
   ]
  },
  {
   "cell_type": "code",
   "execution_count": 200,
   "metadata": {},
   "outputs": [],
   "source": [
    "import random\n",
    "\n",
    "EXIT_ZONES = df_rates['Exit Zone'].unique()\n",
    "\n",
    "\n",
    "def generate_list_meters(n):\n",
    "    \"\"\"generate a random list of n meters\"\"\"\n",
    "    \n",
    "    #generate list of meter ids\n",
    "    meter_ids = np.random.randint(9999999,99999999, size=n)\n",
    "    \n",
    "    #assign exit zone\n",
    "    exit_zones = random.choices(EXIT_ZONES, k=n)\n",
    "    \n",
    "    #generate AQ\n",
    "    aqs = np.random.randint(5000, size=n)\n",
    "\n",
    "    \n",
    "    return list(zip(meter_ids, exit_zones, aqs))"
   ]
  },
  {
   "cell_type": "markdown",
   "metadata": {},
   "source": [
    "# Question 3"
   ]
  },
  {
   "cell_type": "code",
   "execution_count": 248,
   "metadata": {},
   "outputs": [],
   "source": [
    "def generate_consumption_table(meters, start_date, end_date):\n",
    "    \"\"\"generate random consumption usage for a given range for a list of meters\"\"\"\n",
    "    \n",
    "    dates_df = pd.DataFrame(data=[date for date in pd.date_range(start=start_date, end=end_date)],columns=['Date'])\n",
    "    meters_df = pd.DataFrame([meter for meter in meters], columns=['Meter ID'])\n",
    "\n",
    "    dates_df['key'] = 1\n",
    "    meters_df['key'] = 1\n",
    "    df = pd.merge(dates_df,meters_df,on='key').drop('key', 1)\n",
    "    df['kWh'] = np.random.uniform(1,500,size=len(df))\n",
    "    return df\n"
   ]
  },
  {
   "cell_type": "markdown",
   "metadata": {},
   "source": [
    "# Question 4"
   ]
  },
  {
   "cell_type": "code",
   "execution_count": null,
   "metadata": {},
   "outputs": [],
   "source": [
    "def generate_transportation_cost_table(meters_list,consumption_table):\n",
    "    "
   ]
  }
 ],
 "metadata": {
  "kernelspec": {
   "display_name": "Python 3",
   "language": "python",
   "name": "python3"
  },
  "language_info": {
   "codemirror_mode": {
    "name": "ipython",
    "version": 3
   },
   "file_extension": ".py",
   "mimetype": "text/x-python",
   "name": "python",
   "nbconvert_exporter": "python",
   "pygments_lexer": "ipython3",
   "version": "3.8.5"
  }
 },
 "nbformat": 4,
 "nbformat_minor": 4
}
